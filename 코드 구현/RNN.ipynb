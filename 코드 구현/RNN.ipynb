{
 "cells": [
  {
   "cell_type": "code",
   "execution_count": 2,
   "id": "aba30882-af0c-4d12-8f4d-005b16a5f668",
   "metadata": {},
   "outputs": [
    {
     "ename": "NameError",
     "evalue": "name 'input_length' is not defined",
     "output_type": "error",
     "traceback": [
      "\u001b[1;31m---------------------------------------------------------------------------\u001b[0m",
      "\u001b[1;31mNameError\u001b[0m                                 Traceback (most recent call last)",
      "\u001b[1;32m~\\AppData\\Local\\Temp\\ipykernel_19788\\3171374610.py\u001b[0m in \u001b[0;36m<module>\u001b[1;34m\u001b[0m\n\u001b[0;32m      2\u001b[0m \u001b[1;33m\u001b[0m\u001b[0m\n\u001b[0;32m      3\u001b[0m \u001b[0mhidden_state_t\u001b[0m \u001b[1;33m=\u001b[0m \u001b[1;36m0\u001b[0m \u001b[1;31m# 초기 은닉 상태를 0(벡터)로 초기화\u001b[0m\u001b[1;33m\u001b[0m\u001b[1;33m\u001b[0m\u001b[0m\n\u001b[1;32m----> 4\u001b[1;33m \u001b[1;32mfor\u001b[0m \u001b[0minput_t\u001b[0m \u001b[1;32min\u001b[0m \u001b[0minput_length\u001b[0m\u001b[1;33m:\u001b[0m \u001b[1;31m# 각 시점마다 입력을 받는다.\u001b[0m\u001b[1;33m\u001b[0m\u001b[1;33m\u001b[0m\u001b[0m\n\u001b[0m\u001b[0;32m      5\u001b[0m     \u001b[0moutput_t\u001b[0m \u001b[1;33m=\u001b[0m \u001b[0mtanh\u001b[0m\u001b[1;33m(\u001b[0m\u001b[0minput_t\u001b[0m\u001b[1;33m,\u001b[0m \u001b[0mhidden_state_t\u001b[0m\u001b[1;33m)\u001b[0m \u001b[1;31m# 각 시점에 대해서 입력과 은닉 상태를 가지고 연산\u001b[0m\u001b[1;33m\u001b[0m\u001b[1;33m\u001b[0m\u001b[0m\n\u001b[0;32m      6\u001b[0m     \u001b[0mhidden_state_t\u001b[0m \u001b[1;33m=\u001b[0m \u001b[0moutput_t\u001b[0m \u001b[1;31m# 계산 결과는 현재 시점의 은닉 상태가 된다.\u001b[0m\u001b[1;33m\u001b[0m\u001b[1;33m\u001b[0m\u001b[0m\n",
      "\u001b[1;31mNameError\u001b[0m: name 'input_length' is not defined"
     ]
    }
   ],
   "source": [
    "# 아래의 코드는 가상의 코드(pseudocode)로 실제 동작하는 코드가 아님. \n",
    "\n",
    "hidden_state_t = 0 # 초기 은닉 상태를 0(벡터)로 초기화\n",
    "for input_t in input_length: # 각 시점마다 입력을 받는다.\n",
    "    output_t = tanh(input_t, hidden_state_t) # 각 시점에 대해서 입력과 은닉 상태를 가지고 연산\n",
    "    hidden_state_t = output_t # 계산 결과는 현재 시점의 은닉 상태가 된다."
   ]
  },
  {
   "cell_type": "code",
   "execution_count": 3,
   "id": "54d82742-7d87-4fec-a3cf-4978ae331c3f",
   "metadata": {},
   "outputs": [
    {
     "name": "stdout",
     "output_type": "stream",
     "text": [
      "초기 은닉 상태 : [0. 0. 0. 0. 0. 0. 0. 0.]\n"
     ]
    }
   ],
   "source": [
    "import numpy as np\n",
    "\n",
    "timesteps = 10\n",
    "input_dim = 4\n",
    "hidden_units = 8\n",
    "\n",
    "# 입력에 해당되는 2D 텐서\n",
    "inputs = np.random.random((timesteps, input_dim))\n",
    "\n",
    "# 초기 은닉 상태는 0(벡터)로 초기화\n",
    "hidden_state_t = np.zeros((hidden_units,)) \n",
    "\n",
    "print('초기 은닉 상태 :',hidden_state_t)\n"
   ]
  },
  {
   "cell_type": "code",
   "execution_count": 4,
   "id": "8a7a6e5a-e98f-499d-955a-4dfefbbc3daf",
   "metadata": {},
   "outputs": [
    {
     "name": "stdout",
     "output_type": "stream",
     "text": [
      "가중치 Wx의 크기(shape) : (8, 4)\n",
      "가중치 Wh의 크기(shape) : (8, 8)\n",
      "편향의 크기(shape) : (8,)\n"
     ]
    }
   ],
   "source": [
    "Wx = np.random.random((hidden_units, input_dim))  # (8, 4)크기의 2D 텐서 생성. 입력에 대한 가중치.\n",
    "Wh = np.random.random((hidden_units, hidden_units)) # (8, 8)크기의 2D 텐서 생성. 은닉 상태에 대한 가중치.\n",
    "b = np.random.random((hidden_units,)) # (8,)크기의 1D 텐서 생성. 이 값은 편향(bias).\n",
    "\n",
    "print('가중치 Wx의 크기(shape) :',np.shape(Wx))\n",
    "print('가중치 Wh의 크기(shape) :',np.shape(Wh))\n",
    "print('편향의 크기(shape) :',np.shape(b))\n"
   ]
  },
  {
   "cell_type": "code",
   "execution_count": 5,
   "id": "dce3618d-acab-4b7f-9150-5849ac1e133f",
   "metadata": {},
   "outputs": [
    {
     "name": "stdout",
     "output_type": "stream",
     "text": [
      "모든 시점의 은닉 상태 :\n",
      "[[0.9180247  0.98116097 0.82300691 0.84961008 0.94682555 0.94627449\n",
      "  0.92355077 0.97312745]\n",
      " [0.99997737 0.99994255 0.99995858 0.99995532 0.99991086 0.99900768\n",
      "  0.99996546 0.99995008]\n",
      " [0.99996369 0.99990428 0.99996333 0.99995146 0.99984579 0.99944902\n",
      "  0.99997734 0.99991284]\n",
      " [0.99999199 0.9999814  0.99998428 0.9999879  0.9999612  0.99977499\n",
      "  0.99998558 0.99998313]\n",
      " [0.99998096 0.99995786 0.99997316 0.99998007 0.99991033 0.99968437\n",
      "  0.99997894 0.99995491]\n",
      " [0.99999468 0.9999875  0.99998728 0.99999048 0.99997735 0.99990973\n",
      "  0.99999092 0.99998925]\n",
      " [0.99998642 0.99996251 0.99998086 0.99997373 0.99993241 0.99955788\n",
      "  0.99998426 0.99997386]\n",
      " [0.99996338 0.99990349 0.99996425 0.99995197 0.99983221 0.99942797\n",
      "  0.9999772  0.99991802]\n",
      " [0.99998686 0.99996584 0.99998174 0.9999783  0.99992642 0.99974682\n",
      "  0.99998664 0.99997858]\n",
      " [0.9999923  0.99998428 0.9999807  0.9999907  0.99997396 0.99979027\n",
      "  0.9999817  0.99997351]]\n"
     ]
    }
   ],
   "source": [
    "total_hidden_states = []\n",
    "\n",
    "# 각 시점 별 입력값.\n",
    "for input_t in inputs:\n",
    "\n",
    "  # Wx * Xt + Wh * Ht-1 + b(bias)\n",
    "  output_t = np.tanh(np.dot(Wx,input_t) + np.dot(Wh,hidden_state_t) + b)\n",
    "\n",
    "  # 각 시점 t별 메모리 셀의 출력의 크기는 (timestep t, output_dim)\n",
    "  # 각 시점의 은닉 상태의 값을 계속해서 누적\n",
    "  total_hidden_states.append(list(output_t))\n",
    "  hidden_state_t = output_t\n",
    "\n",
    "# 출력 시 값을 깔끔하게 해주는 용도.\n",
    "total_hidden_states = np.stack(total_hidden_states, axis = 0) \n",
    "\n",
    "# (timesteps, output_dim)\n",
    "print('모든 시점의 은닉 상태 :')\n",
    "print(total_hidden_states)\n"
   ]
  },
  {
   "cell_type": "code",
   "execution_count": null,
   "id": "c4cef4ea-3937-4593-9901-257b10c7f696",
   "metadata": {},
   "outputs": [],
   "source": []
  }
 ],
 "metadata": {
  "kernelspec": {
   "display_name": "Python 3 (ipykernel)",
   "language": "python",
   "name": "python3"
  },
  "language_info": {
   "codemirror_mode": {
    "name": "ipython",
    "version": 3
   },
   "file_extension": ".py",
   "mimetype": "text/x-python",
   "name": "python",
   "nbconvert_exporter": "python",
   "pygments_lexer": "ipython3",
   "version": "3.9.13"
  }
 },
 "nbformat": 4,
 "nbformat_minor": 5
}
