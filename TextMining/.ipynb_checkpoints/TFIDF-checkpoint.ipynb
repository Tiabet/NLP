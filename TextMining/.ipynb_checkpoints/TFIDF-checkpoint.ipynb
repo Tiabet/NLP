{
 "cells": [
  {
   "cell_type": "code",
   "execution_count": null,
   "id": "e134fdf8-c2a9-47c2-afeb-1d917f59b392",
   "metadata": {},
   "outputs": [],
   "source": [
    "import pandas as pd\n",
    "import string\n",
    "from sklearn.feature_extraction.text import TfidfVectorizer\n",
    "from nltk.corpus import stopwords\n",
    "from nltk.tokenize import word_tokenize\n",
    "import nltk\n",
    "\n",
    "# Ensure NLTK resources are downloaded\n",
    "nltk.download('punkt')\n",
    "nltk.download('stopwords')\n",
    "\n",
    "# Sample DataFrame\n",
    "data = {\n",
    "    'title': [\n",
    "        'Example title one!',\n",
    "        'Another title here?',\n",
    "        'More about titles...',\n",
    "        'Last title example.'\n",
    "    ]\n",
    "}\n",
    "df = pd.DataFrame(data)\n",
    "\n",
    "def preprocess_text(text):\n",
    "    # Convert text to lowercase\n",
    "    text = text.lower()\n",
    "    # Remove punctuation\n",
    "    text = text.translate(str.maketrans('', '', string.punctuation))\n",
    "    # Tokenize text\n",
    "    words = word_tokenize(text)\n",
    "    # Remove stopwords\n",
    "    words = [word for word in words if word not in stopwords.words('english')]\n",
    "    # Join words back to string\n",
    "    text = ' '.join(words)\n",
    "    return text\n",
    "\n",
    "# Apply preprocessing to the 'title' column\n",
    "df['processed_title'] = df['title'].apply(preprocess_text)\n",
    "\n",
    "# Initialize the TF-IDF Vectorizer\n",
    "tfidf_vectorizer = TfidfVectorizer()\n",
    "\n",
    "# Fit and transform the 'processed_title' column\n",
    "tfidf_matrix = tfidf_vectorizer.fit_transform(df['processed_title'])\n",
    "\n",
    "# Converting the matrix to a list of arrays (one array per document)\n",
    "df['tfidf_vector'] = list(tfidf_matrix.toarray())\n",
    "\n",
    "# Display the updated DataFrame\n",
    "print(df)\n"
   ]
  }
 ],
 "metadata": {
  "kernelspec": {
   "display_name": "Python 3 (ipykernel)",
   "language": "python",
   "name": "python3"
  },
  "language_info": {
   "codemirror_mode": {
    "name": "ipython",
    "version": 3
   },
   "file_extension": ".py",
   "mimetype": "text/x-python",
   "name": "python",
   "nbconvert_exporter": "python",
   "pygments_lexer": "ipython3",
   "version": "3.9.13"
  }
 },
 "nbformat": 4,
 "nbformat_minor": 5
}
