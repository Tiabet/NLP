{
  "nbformat": 4,
  "nbformat_minor": 0,
  "metadata": {
    "colab": {
      "provenance": [],
      "authorship_tag": "ABX9TyMIPedX8ynpx78SPTVRVAUG",
      "include_colab_link": true
    },
    "kernelspec": {
      "name": "python3",
      "display_name": "Python 3"
    },
    "language_info": {
      "name": "python"
    }
  },
  "cells": [
    {
      "cell_type": "markdown",
      "metadata": {
        "id": "view-in-github",
        "colab_type": "text"
      },
      "source": [
        "<a href=\"https://colab.research.google.com/github/Tiabet/NLP/blob/master/langchain2_sktflyai.ipynb\" target=\"_parent\"><img src=\"https://colab.research.google.com/assets/colab-badge.svg\" alt=\"Open In Colab\"/></a>"
      ]
    },
    {
      "cell_type": "code",
      "execution_count": null,
      "metadata": {
        "colab": {
          "base_uri": "https://localhost:8080/"
        },
        "id": "vfCTPCZPZEEo",
        "outputId": "2693e89e-462b-41d6-ba92-ab4809e3d2d0"
      },
      "outputs": [
        {
          "output_type": "stream",
          "name": "stdout",
          "text": [
            "Collecting openai\n",
            "  Downloading openai-1.39.0-py3-none-any.whl.metadata (22 kB)\n",
            "Requirement already satisfied: anyio<5,>=3.5.0 in /usr/local/lib/python3.10/dist-packages (from openai) (3.7.1)\n",
            "Requirement already satisfied: distro<2,>=1.7.0 in /usr/lib/python3/dist-packages (from openai) (1.7.0)\n",
            "Collecting httpx<1,>=0.23.0 (from openai)\n",
            "  Downloading httpx-0.27.0-py3-none-any.whl.metadata (7.2 kB)\n",
            "Requirement already satisfied: pydantic<3,>=1.9.0 in /usr/local/lib/python3.10/dist-packages (from openai) (2.8.2)\n",
            "Requirement already satisfied: sniffio in /usr/local/lib/python3.10/dist-packages (from openai) (1.3.1)\n",
            "Requirement already satisfied: tqdm>4 in /usr/local/lib/python3.10/dist-packages (from openai) (4.66.4)\n",
            "Requirement already satisfied: typing-extensions<5,>=4.7 in /usr/local/lib/python3.10/dist-packages (from openai) (4.12.2)\n",
            "Requirement already satisfied: idna>=2.8 in /usr/local/lib/python3.10/dist-packages (from anyio<5,>=3.5.0->openai) (3.7)\n",
            "Requirement already satisfied: exceptiongroup in /usr/local/lib/python3.10/dist-packages (from anyio<5,>=3.5.0->openai) (1.2.2)\n",
            "Requirement already satisfied: certifi in /usr/local/lib/python3.10/dist-packages (from httpx<1,>=0.23.0->openai) (2024.7.4)\n",
            "Collecting httpcore==1.* (from httpx<1,>=0.23.0->openai)\n",
            "  Downloading httpcore-1.0.5-py3-none-any.whl.metadata (20 kB)\n",
            "Collecting h11<0.15,>=0.13 (from httpcore==1.*->httpx<1,>=0.23.0->openai)\n",
            "  Downloading h11-0.14.0-py3-none-any.whl.metadata (8.2 kB)\n",
            "Requirement already satisfied: annotated-types>=0.4.0 in /usr/local/lib/python3.10/dist-packages (from pydantic<3,>=1.9.0->openai) (0.7.0)\n",
            "Requirement already satisfied: pydantic-core==2.20.1 in /usr/local/lib/python3.10/dist-packages (from pydantic<3,>=1.9.0->openai) (2.20.1)\n",
            "Downloading openai-1.39.0-py3-none-any.whl (336 kB)\n",
            "\u001b[2K   \u001b[90m━━━━━━━━━━━━━━━━━━━━━━━━━━━━━━━━━━━━━━━━\u001b[0m \u001b[32m336.7/336.7 kB\u001b[0m \u001b[31m7.5 MB/s\u001b[0m eta \u001b[36m0:00:00\u001b[0m\n",
            "\u001b[?25hDownloading httpx-0.27.0-py3-none-any.whl (75 kB)\n",
            "\u001b[2K   \u001b[90m━━━━━━━━━━━━━━━━━━━━━━━━━━━━━━━━━━━━━━━━\u001b[0m \u001b[32m75.6/75.6 kB\u001b[0m \u001b[31m5.8 MB/s\u001b[0m eta \u001b[36m0:00:00\u001b[0m\n",
            "\u001b[?25hDownloading httpcore-1.0.5-py3-none-any.whl (77 kB)\n",
            "\u001b[2K   \u001b[90m━━━━━━━━━━━━━━━━━━━━━━━━━━━━━━━━━━━━━━━━\u001b[0m \u001b[32m77.9/77.9 kB\u001b[0m \u001b[31m6.0 MB/s\u001b[0m eta \u001b[36m0:00:00\u001b[0m\n",
            "\u001b[?25hDownloading h11-0.14.0-py3-none-any.whl (58 kB)\n",
            "\u001b[2K   \u001b[90m━━━━━━━━━━━━━━━━━━━━━━━━━━━━━━━━━━━━━━━━\u001b[0m \u001b[32m58.3/58.3 kB\u001b[0m \u001b[31m4.2 MB/s\u001b[0m eta \u001b[36m0:00:00\u001b[0m\n",
            "\u001b[?25hInstalling collected packages: h11, httpcore, httpx, openai\n",
            "Successfully installed h11-0.14.0 httpcore-1.0.5 httpx-0.27.0 openai-1.39.0\n",
            "Collecting langchain\n",
            "  Downloading langchain-0.2.12-py3-none-any.whl.metadata (7.1 kB)\n",
            "Collecting langchain-community\n",
            "  Downloading langchain_community-0.2.11-py3-none-any.whl.metadata (2.7 kB)\n",
            "Collecting langchain-core\n",
            "  Downloading langchain_core-0.2.28-py3-none-any.whl.metadata (6.2 kB)\n",
            "Requirement already satisfied: PyYAML>=5.3 in /usr/local/lib/python3.10/dist-packages (from langchain) (6.0.1)\n",
            "Requirement already satisfied: SQLAlchemy<3,>=1.4 in /usr/local/lib/python3.10/dist-packages (from langchain) (2.0.31)\n",
            "Requirement already satisfied: aiohttp<4.0.0,>=3.8.3 in /usr/local/lib/python3.10/dist-packages (from langchain) (3.10.0)\n",
            "Requirement already satisfied: async-timeout<5.0.0,>=4.0.0 in /usr/local/lib/python3.10/dist-packages (from langchain) (4.0.3)\n",
            "Collecting langchain-text-splitters<0.3.0,>=0.2.0 (from langchain)\n",
            "  Downloading langchain_text_splitters-0.2.2-py3-none-any.whl.metadata (2.1 kB)\n",
            "Collecting langsmith<0.2.0,>=0.1.17 (from langchain)\n",
            "  Downloading langsmith-0.1.97-py3-none-any.whl.metadata (13 kB)\n",
            "Requirement already satisfied: numpy<2,>=1 in /usr/local/lib/python3.10/dist-packages (from langchain) (1.26.4)\n",
            "Requirement already satisfied: pydantic<3,>=1 in /usr/local/lib/python3.10/dist-packages (from langchain) (2.8.2)\n",
            "Requirement already satisfied: requests<3,>=2 in /usr/local/lib/python3.10/dist-packages (from langchain) (2.31.0)\n",
            "Collecting tenacity!=8.4.0,<9.0.0,>=8.1.0 (from langchain)\n",
            "  Downloading tenacity-8.5.0-py3-none-any.whl.metadata (1.2 kB)\n",
            "Collecting dataclasses-json<0.7,>=0.5.7 (from langchain-community)\n",
            "  Downloading dataclasses_json-0.6.7-py3-none-any.whl.metadata (25 kB)\n",
            "Collecting jsonpatch<2.0,>=1.33 (from langchain-core)\n",
            "  Downloading jsonpatch-1.33-py2.py3-none-any.whl.metadata (3.0 kB)\n",
            "Requirement already satisfied: packaging<25,>=23.2 in /usr/local/lib/python3.10/dist-packages (from langchain-core) (24.1)\n",
            "Requirement already satisfied: typing-extensions>=4.7 in /usr/local/lib/python3.10/dist-packages (from langchain-core) (4.12.2)\n",
            "Requirement already satisfied: aiohappyeyeballs>=2.3.0 in /usr/local/lib/python3.10/dist-packages (from aiohttp<4.0.0,>=3.8.3->langchain) (2.3.4)\n",
            "Requirement already satisfied: aiosignal>=1.1.2 in /usr/local/lib/python3.10/dist-packages (from aiohttp<4.0.0,>=3.8.3->langchain) (1.3.1)\n",
            "Requirement already satisfied: attrs>=17.3.0 in /usr/local/lib/python3.10/dist-packages (from aiohttp<4.0.0,>=3.8.3->langchain) (23.2.0)\n",
            "Requirement already satisfied: frozenlist>=1.1.1 in /usr/local/lib/python3.10/dist-packages (from aiohttp<4.0.0,>=3.8.3->langchain) (1.4.1)\n",
            "Requirement already satisfied: multidict<7.0,>=4.5 in /usr/local/lib/python3.10/dist-packages (from aiohttp<4.0.0,>=3.8.3->langchain) (6.0.5)\n",
            "Requirement already satisfied: yarl<2.0,>=1.0 in /usr/local/lib/python3.10/dist-packages (from aiohttp<4.0.0,>=3.8.3->langchain) (1.9.4)\n",
            "Collecting marshmallow<4.0.0,>=3.18.0 (from dataclasses-json<0.7,>=0.5.7->langchain-community)\n",
            "  Downloading marshmallow-3.21.3-py3-none-any.whl.metadata (7.1 kB)\n",
            "Collecting typing-inspect<1,>=0.4.0 (from dataclasses-json<0.7,>=0.5.7->langchain-community)\n",
            "  Downloading typing_inspect-0.9.0-py3-none-any.whl.metadata (1.5 kB)\n",
            "Collecting jsonpointer>=1.9 (from jsonpatch<2.0,>=1.33->langchain-core)\n",
            "  Downloading jsonpointer-3.0.0-py2.py3-none-any.whl.metadata (2.3 kB)\n",
            "Collecting orjson<4.0.0,>=3.9.14 (from langsmith<0.2.0,>=0.1.17->langchain)\n",
            "  Downloading orjson-3.10.6-cp310-cp310-manylinux_2_17_x86_64.manylinux2014_x86_64.whl.metadata (50 kB)\n",
            "\u001b[2K     \u001b[90m━━━━━━━━━━━━━━━━━━━━━━━━━━━━━━━━━━━━━━━━\u001b[0m \u001b[32m50.4/50.4 kB\u001b[0m \u001b[31m3.3 MB/s\u001b[0m eta \u001b[36m0:00:00\u001b[0m\n",
            "\u001b[?25hRequirement already satisfied: annotated-types>=0.4.0 in /usr/local/lib/python3.10/dist-packages (from pydantic<3,>=1->langchain) (0.7.0)\n",
            "Requirement already satisfied: pydantic-core==2.20.1 in /usr/local/lib/python3.10/dist-packages (from pydantic<3,>=1->langchain) (2.20.1)\n",
            "Requirement already satisfied: charset-normalizer<4,>=2 in /usr/local/lib/python3.10/dist-packages (from requests<3,>=2->langchain) (3.3.2)\n",
            "Requirement already satisfied: idna<4,>=2.5 in /usr/local/lib/python3.10/dist-packages (from requests<3,>=2->langchain) (3.7)\n",
            "Requirement already satisfied: urllib3<3,>=1.21.1 in /usr/local/lib/python3.10/dist-packages (from requests<3,>=2->langchain) (2.0.7)\n",
            "Requirement already satisfied: certifi>=2017.4.17 in /usr/local/lib/python3.10/dist-packages (from requests<3,>=2->langchain) (2024.7.4)\n",
            "Requirement already satisfied: greenlet!=0.4.17 in /usr/local/lib/python3.10/dist-packages (from SQLAlchemy<3,>=1.4->langchain) (3.0.3)\n",
            "Collecting mypy-extensions>=0.3.0 (from typing-inspect<1,>=0.4.0->dataclasses-json<0.7,>=0.5.7->langchain-community)\n",
            "  Downloading mypy_extensions-1.0.0-py3-none-any.whl.metadata (1.1 kB)\n",
            "Downloading langchain-0.2.12-py3-none-any.whl (990 kB)\n",
            "\u001b[2K   \u001b[90m━━━━━━━━━━━━━━━━━━━━━━━━━━━━━━━━━━━━━━━━\u001b[0m \u001b[32m990.6/990.6 kB\u001b[0m \u001b[31m18.7 MB/s\u001b[0m eta \u001b[36m0:00:00\u001b[0m\n",
            "\u001b[?25hDownloading langchain_community-0.2.11-py3-none-any.whl (2.3 MB)\n",
            "\u001b[2K   \u001b[90m━━━━━━━━━━━━━━━━━━━━━━━━━━━━━━━━━━━━━━━━\u001b[0m \u001b[32m2.3/2.3 MB\u001b[0m \u001b[31m56.1 MB/s\u001b[0m eta \u001b[36m0:00:00\u001b[0m\n",
            "\u001b[?25hDownloading langchain_core-0.2.28-py3-none-any.whl (379 kB)\n",
            "\u001b[2K   \u001b[90m━━━━━━━━━━━━━━━━━━━━━━━━━━━━━━━━━━━━━━━━\u001b[0m \u001b[32m379.9/379.9 kB\u001b[0m \u001b[31m25.9 MB/s\u001b[0m eta \u001b[36m0:00:00\u001b[0m\n",
            "\u001b[?25hDownloading dataclasses_json-0.6.7-py3-none-any.whl (28 kB)\n",
            "Downloading jsonpatch-1.33-py2.py3-none-any.whl (12 kB)\n",
            "Downloading langchain_text_splitters-0.2.2-py3-none-any.whl (25 kB)\n",
            "Downloading langsmith-0.1.97-py3-none-any.whl (140 kB)\n",
            "\u001b[2K   \u001b[90m━━━━━━━━━━━━━━━━━━━━━━━━━━━━━━━━━━━━━━━━\u001b[0m \u001b[32m140.1/140.1 kB\u001b[0m \u001b[31m10.4 MB/s\u001b[0m eta \u001b[36m0:00:00\u001b[0m\n",
            "\u001b[?25hDownloading tenacity-8.5.0-py3-none-any.whl (28 kB)\n",
            "Downloading jsonpointer-3.0.0-py2.py3-none-any.whl (7.6 kB)\n",
            "Downloading marshmallow-3.21.3-py3-none-any.whl (49 kB)\n",
            "\u001b[2K   \u001b[90m━━━━━━━━━━━━━━━━━━━━━━━━━━━━━━━━━━━━━━━━\u001b[0m \u001b[32m49.2/49.2 kB\u001b[0m \u001b[31m3.7 MB/s\u001b[0m eta \u001b[36m0:00:00\u001b[0m\n",
            "\u001b[?25hDownloading orjson-3.10.6-cp310-cp310-manylinux_2_17_x86_64.manylinux2014_x86_64.whl (141 kB)\n",
            "\u001b[2K   \u001b[90m━━━━━━━━━━━━━━━━━━━━━━━━━━━━━━━━━━━━━━━━\u001b[0m \u001b[32m141.1/141.1 kB\u001b[0m \u001b[31m11.1 MB/s\u001b[0m eta \u001b[36m0:00:00\u001b[0m\n",
            "\u001b[?25hDownloading typing_inspect-0.9.0-py3-none-any.whl (8.8 kB)\n",
            "Downloading mypy_extensions-1.0.0-py3-none-any.whl (4.7 kB)\n",
            "Installing collected packages: tenacity, orjson, mypy-extensions, marshmallow, jsonpointer, typing-inspect, jsonpatch, langsmith, dataclasses-json, langchain-core, langchain-text-splitters, langchain, langchain-community\n",
            "  Attempting uninstall: tenacity\n",
            "    Found existing installation: tenacity 9.0.0\n",
            "    Uninstalling tenacity-9.0.0:\n",
            "      Successfully uninstalled tenacity-9.0.0\n",
            "Successfully installed dataclasses-json-0.6.7 jsonpatch-1.33 jsonpointer-3.0.0 langchain-0.2.12 langchain-community-0.2.11 langchain-core-0.2.28 langchain-text-splitters-0.2.2 langsmith-0.1.97 marshmallow-3.21.3 mypy-extensions-1.0.0 orjson-3.10.6 tenacity-8.5.0 typing-inspect-0.9.0\n"
          ]
        }
      ],
      "source": [
        "!pip install openai\n",
        "!pip install langchain langchain-community langchain-core\n",
        "!pip install pypdf"
      ]
    },
    {
      "cell_type": "code",
      "source": [
        "import os\n",
        "\n",
        "os.environ[\"OPENAI_API_KEY\"] = '64650e80fc9f42d28849c6a5f601d832'\n",
        "os.environ[\"OPENAI_API_TYPE\"] = 'azure'\n",
        "os.environ[\"OPENAI_API_VERSION\"] = '2023-05-15'\n",
        "os.environ[\"AZURE_OPENAI_ENDPOINT\"] = \"https://sktflyai.openai.azure.com/\""
      ],
      "metadata": {
        "id": "KUflVAkGZycr"
      },
      "execution_count": null,
      "outputs": []
    },
    {
      "cell_type": "code",
      "source": [
        "from langchain.prompts import PromptTemplate, ChatPromptTemplate, HumanMessagePromptTemplate\n",
        "from langchain.llms import AzureOpenAI\n",
        "from langchain.chat_models import AzureChatOpenAI\n",
        "\n",
        "string_prompt = ChatPromptTemplate.from_template(\"Tell me a joke about {topic}\")\n",
        "prompt = string_prompt.format(topic=\"cats\")\n",
        "\n",
        "print(prompt)"
      ],
      "metadata": {
        "colab": {
          "base_uri": "https://localhost:8080/"
        },
        "id": "QeYhIheWadf7",
        "outputId": "75c72672-2d73-4029-8f2a-a571d26c5348"
      },
      "execution_count": null,
      "outputs": [
        {
          "output_type": "stream",
          "name": "stdout",
          "text": [
            "Human: Tell me a joke about cats\n"
          ]
        }
      ]
    },
    {
      "cell_type": "code",
      "source": [
        "prompt = string_prompt.format_messages(topic=\"cats\")\n",
        "\n",
        "prompt[0]"
      ],
      "metadata": {
        "colab": {
          "base_uri": "https://localhost:8080/"
        },
        "id": "i9ioIT5ga4-T",
        "outputId": "46ca736b-02c8-41e9-f383-e06760dee089"
      },
      "execution_count": null,
      "outputs": [
        {
          "output_type": "execute_result",
          "data": {
            "text/plain": [
              "HumanMessage(content='Tell me a joke about cats')"
            ]
          },
          "metadata": {},
          "execution_count": 16
        }
      ]
    },
    {
      "cell_type": "code",
      "source": [
        "string_template = '''\n",
        "너는 요리사다. 제시하는 재료들로 만들 수 있는 요리를 추천해주고 레시피를 제시하라.\n",
        "\n",
        "내가 가진 재료는 아래와 같다.\n",
        "\n",
        "재료: {재료}\n",
        "\n",
        "추천 요리:\n",
        "\n",
        "'''"
      ],
      "metadata": {
        "id": "-Ig4Rc-sbynO"
      },
      "execution_count": null,
      "outputs": []
    },
    {
      "cell_type": "code",
      "source": [
        "prompt = PromptTemplate(\n",
        "    input_variables=[\"재료\"],\n",
        "    template=string_template,\n",
        ")\n",
        "\n",
        "prompt"
      ],
      "metadata": {
        "colab": {
          "base_uri": "https://localhost:8080/"
        },
        "id": "edYLe6FPcsgA",
        "outputId": "ec2e222b-430e-4f23-a346-f4257d47afa6"
      },
      "execution_count": null,
      "outputs": [
        {
          "output_type": "execute_result",
          "data": {
            "text/plain": [
              "PromptTemplate(input_variables=['재료'], template='\\n너는 요리사다. 제시하는 재료들로 만들 수 있는 요리를 추천해주고 레시피를 제시하라.\\n\\n내가 가진 재료는 아래와 같다.\\n\\n재료: {재료}\\n\\n추천 요리:\\n\\n')"
            ]
          },
          "metadata": {},
          "execution_count": 19
        }
      ]
    },
    {
      "cell_type": "code",
      "source": [
        "prompt.format(재료=\"고추장, 돼지고기\")"
      ],
      "metadata": {
        "colab": {
          "base_uri": "https://localhost:8080/",
          "height": 54
        },
        "id": "bJeklbfXcxC8",
        "outputId": "3beac499-4557-430d-ee66-de6aaa20e381"
      },
      "execution_count": null,
      "outputs": [
        {
          "output_type": "execute_result",
          "data": {
            "text/plain": [
              "'\\n너는 요리사다. 제시하는 재료들로 만들 수 있는 요리를 추천해주고 레시피를 제시하라.\\n\\n내가 가진 재료는 아래와 같다.\\n\\n재료: 고추장, 돼지고기\\n\\n추천 요리:\\n\\n'"
            ],
            "application/vnd.google.colaboratory.intrinsic+json": {
              "type": "string"
            }
          },
          "metadata": {},
          "execution_count": 20
        }
      ]
    },
    {
      "cell_type": "code",
      "source": [
        "chat = AzureOpenAI(deployment_name = 'dev-gpt-35-turbo-instruct')"
      ],
      "metadata": {
        "id": "J4dNVgW5dJSg"
      },
      "execution_count": null,
      "outputs": []
    },
    {
      "cell_type": "code",
      "source": [
        "response = chat.invoke(prompt.format(재료=\"고추장, 돼지고기\"))"
      ],
      "metadata": {
        "id": "UgapqJtDdjF1"
      },
      "execution_count": null,
      "outputs": []
    },
    {
      "cell_type": "code",
      "source": [
        "print(response)"
      ],
      "metadata": {
        "colab": {
          "base_uri": "https://localhost:8080/"
        },
        "id": "QeUwSvondlwl",
        "outputId": "c38824e0-2d10-45e8-fa86-7961b2e4f5ac"
      },
      "execution_count": null,
      "outputs": [
        {
          "output_type": "stream",
          "name": "stdout",
          "text": [
            "1. 돼지고기 불고기\n",
            "- 고추장과 돼지고기를 섞어 양념을 만든다.\n",
            "- 돼지고기를 양념에 넣고 30분 정도 재워준다.\n",
            "- 팬에 기름을 두르고 양념에 재워둔 돼지고기를 넣고 익힌다.\n",
            "- 불고기가 익으면 적당한 크기로 썬 상추와 양파, 마늘을 넣고 볶아준다.\n",
            "- 밥과 함께 즐길 수 있다.\n",
            "\n",
            "2. 고추장 삼겹살 구이\n",
            "- 고추장과 고춧가루, 설탕, 다진마늘을 섞어 양념을 만든다.\n",
            "- 삼겹살을 양념에 넣고 1시간 정도 재워준다.\n",
            "- 그릴이\n"
          ]
        }
      ]
    },
    {
      "cell_type": "code",
      "source": [
        "from langchain.prompts import (\n",
        "    ChatPromptTemplate,\n",
        "    PromptTemplate,\n",
        "    SystemMessagePromptTemplate,\n",
        "    AIMessagePromptTemplate,\n",
        "    HumanMessagePromptTemplate,\n",
        ")\n",
        "from langchain.schema import (\n",
        "    AIMessage,\n",
        "    HumanMessage,\n",
        "    SystemMessage\n",
        ")"
      ],
      "metadata": {
        "id": "fTqFsGvuePrj"
      },
      "execution_count": null,
      "outputs": []
    },
    {
      "cell_type": "code",
      "source": [
        "gpt = AzureChatOpenAI(deployment_name = 'dev-gpt-35-turbo')"
      ],
      "metadata": {
        "id": "5q-wDlvqi_Wf"
      },
      "execution_count": null,
      "outputs": []
    },
    {
      "cell_type": "code",
      "source": [
        "sys_prompt = SystemMessagePromptTemplate.from_template(\"너는 요리사다. 제시하는 재료들로 만들 수 있는 요리를 추천해주고 레시피를 제시하라.\")\n",
        "human_prompt = HumanMessagePromptTemplate.from_template(\"내가 가진 재료는 아래와 같다.\\n\\n재료: {재료}\\n\\n추천 요리:\")\n",
        "chat_prompt = ChatPromptTemplate.from_messages([sys_prompt, human_prompt])\n",
        "\n",
        "response = gpt(chat_prompt.format_prompt(재료=\"고추장, 돼지고기\").to_messages())\n",
        "print(response.content)"
      ],
      "metadata": {
        "colab": {
          "base_uri": "https://localhost:8080/"
        },
        "id": "E3h5TVHPjjge",
        "outputId": "bdeb8831-3816-4e74-d56d-acf96c6f0d11"
      },
      "execution_count": null,
      "outputs": [
        {
          "output_type": "stream",
          "name": "stdout",
          "text": [
            "고추장 볶음밥\n",
            "\n",
            "레시피:\n",
            "1. 돼지고기를 썰어 먹기 좋은 크기로 잘라준다.\n",
            "2. 팬에 식용유를 두르고 돼지고기를 넣어 중간 불에서 볶아준다.\n",
            "3. 돼지고기가 익으면 고추장을 넣고 함께 볶아준다.\n",
            "4. 볶음밥용 밥을 준비하여 팬에 넣고 고추장과 돼지고기와 함께 볶아준다.\n",
            "5. 볶음밥이 골고루 섞이도록 잘 저어주며 볶아준다.\n",
            "6. 마지막으로 김치나 파, 계란 등으로 감칠맛을 더해준다.\n",
            "7. 볶음밥을 그릇에 담아 완성한다. \n",
            "\n",
            "맛있는 고추장 볶음밥이 완성되었다!\n"
          ]
        }
      ]
    },
    {
      "cell_type": "code",
      "source": [
        "human_prompt = HumanMessagePromptTemplate.from_template(\"다른 요리도 추천해줘. 내가 가진 재료는 아래와 같다.\\n\\n재료: {재료}\\n\\n추천 요리:\")\n",
        "chat_prompt = ChatPromptTemplate.from_messages([sys_prompt, human_prompt])\n",
        "\n",
        "response = gpt(chat_prompt.format_prompt(재료=\"고추장, 돼지고기\").to_messages())\n",
        "print(response.content)"
      ],
      "metadata": {
        "colab": {
          "base_uri": "https://localhost:8080/"
        },
        "id": "99hbbGvqkUtv",
        "outputId": "d06a876c-fcaa-44f9-a720-62134a25208a"
      },
      "execution_count": null,
      "outputs": [
        {
          "output_type": "stream",
          "name": "stdout",
          "text": [
            "고추장 돼지고기 볶음\n",
            "\n",
            "재료:\n",
            "- 돼지고기 (300g)\n",
            "- 양파 (1개)\n",
            "- 당근 (1개)\n",
            "- 대파 (1대)\n",
            "- 고추장 (2큰술)\n",
            "- 고춧가루 (1큰술)\n",
            "- 다진 마늘 (1큰술)\n",
            "- 설탕 (1큰술)\n",
            "- 소금 (약간)\n",
            "- 식용유 (적당량)\n",
            "\n",
            "레시피:\n",
            "\n",
            "1. 돼지고기는 얇게 썬 후, 섞어둔 고춧가루와 소금으로 재워 10분간 숙성시킨다.\n",
            "2. 양파와 당근은 채 썰고, 대파는 어슷하게 썬다.\n",
            "3. 팬에 식용유를 두르고 다진 마늘을 볶아 향을 낸 후, 돼지고기를 넣고 볶는다.\n",
            "4. 돼지고기가 익으면 양파와 당근을 넣고 함께 볶는다.\n",
            "5. 고추장, 설탕을 넣고 고루 섞어준다.\n",
            "6. 대파를 넣고 익을 때까지 볶는다.\n",
            "7. 마지막으로 소금으로 간을 맞추고, 고추장 돼지고기 볶음을 완성한다.\n",
            "\n",
            "매콤하고 고소한 맛이 일품인 고추장 돼지고기 볶음을 즐겨보세요!\n"
          ]
        }
      ]
    },
    {
      "cell_type": "code",
      "source": [
        "from langchain.prompts import FewShotPromptTemplate, PromptTemplate\n",
        "\n",
        "examples = [\n",
        "    {\n",
        "        'question' : '아이유로 삼행시를 지어줘',\n",
        "        'answer' : '''\n",
        "        아 아이유는\n",
        "        이 이상하게\n",
        "        유 유난히 좋다.\n",
        "        '''\n",
        "    },\n",
        "    {\n",
        "      'question' : '이순신으로 삼행시를 지어줘',\n",
        "      'answer' :\n",
        "      '''\n",
        "      이 이순신 장군은\n",
        "      순 순순히 내어줄 것 같았던 조선의 바다를\n",
        "      신 신의와 충의의 마음으로 지켜냈다.\n",
        "      '''\n",
        "    }\n",
        "]"
      ],
      "metadata": {
        "id": "9kB9bvgykpes"
      },
      "execution_count": null,
      "outputs": []
    },
    {
      "cell_type": "code",
      "source": [
        "# Define the prompt template for the examples\n",
        "example_prompt = PromptTemplate(\n",
        "    input_variables=['question', 'answer'],\n",
        "    template='Question: {question}\\n Answer: {answer}'\n",
        ")"
      ],
      "metadata": {
        "id": "7qeOCFhhlwvU"
      },
      "execution_count": null,
      "outputs": []
    },
    {
      "cell_type": "code",
      "source": [
        "# Define the few-shot prompt template\n",
        "prompt = FewShotPromptTemplate(\n",
        "    examples=examples,\n",
        "    example_prompt=example_prompt,\n",
        "    suffix='Question: {input}\\n Answer:',\n",
        "    input_variables=['input'],\n",
        "    example_separator='\\n\\n'\n",
        ")"
      ],
      "metadata": {
        "id": "raXecBhBm8jV"
      },
      "execution_count": null,
      "outputs": []
    },
    {
      "cell_type": "code",
      "source": [
        "# Use the prompt\n",
        "response = gpt(prompt.format_prompt(input='김정현으로 삼행시를 지어줘').to_messages())\n",
        "print(response.content)"
      ],
      "metadata": {
        "colab": {
          "base_uri": "https://localhost:8080/"
        },
        "id": "i2-fhKxxnGEF",
        "outputId": "decfb237-acba-476a-cae2-5e1a0caa3d67"
      },
      "execution_count": null,
      "outputs": [
        {
          "output_type": "stream",
          "name": "stdout",
          "text": [
            "김 김정현은\n",
            "정 정말 멋진 사람이야\n",
            "현 현실에서도 빛나는 모습을 보여줘.\n"
          ]
        }
      ]
    },
    {
      "cell_type": "code",
      "source": [
        "#URL Documnet Loader\n",
        "\n",
        "from langchain.document_loaders import WebBaseLoader\n",
        "\n",
        "loader = WebBaseLoader(\"https://www.naver.com\")\n",
        "data = loader.load()\n",
        "\n",
        "print(data[0].page_content)"
      ],
      "metadata": {
        "colab": {
          "base_uri": "https://localhost:8080/"
        },
        "id": "kdBw3jnsoimN",
        "outputId": "0f50dc56-4e59-4e51-e9f2-95abd46a8c34"
      },
      "execution_count": null,
      "outputs": [
        {
          "output_type": "stream",
          "name": "stdout",
          "text": [
            "        NAVER                             상단영역 바로가기 서비스 메뉴 바로가기 새소식 블록 바로가기 쇼핑 블록 바로가기 관심사 블록 바로가기 MY 영역 바로가기 위젯 보드 바로가기 보기 설정 바로가기               검색                       검색       입력도구     자동완성/최근검색어펼치기                          \n"
          ]
        }
      ]
    },
    {
      "cell_type": "code",
      "source": [],
      "metadata": {
        "colab": {
          "base_uri": "https://localhost:8080/",
          "height": 186
        },
        "id": "wP0BvPfRphYd",
        "outputId": "f7313149-f824-43f1-c515-db6524bae340"
      },
      "execution_count": null,
      "outputs": [
        {
          "output_type": "execute_result",
          "data": {
            "text/plain": [
              "langchain_core.documents.base.Document"
            ],
            "text/html": [
              "<div style=\"max-width:800px; border: 1px solid var(--colab-border-color);\"><style>\n",
              "      pre.function-repr-contents {\n",
              "        overflow-x: auto;\n",
              "        padding: 8px 12px;\n",
              "        max-height: 500px;\n",
              "      }\n",
              "\n",
              "      pre.function-repr-contents.function-repr-contents-collapsed {\n",
              "        cursor: pointer;\n",
              "        max-height: 100px;\n",
              "      }\n",
              "    </style>\n",
              "    <pre style=\"white-space: initial; background:\n",
              "         var(--colab-secondary-surface-color); padding: 8px 12px;\n",
              "         border-bottom: 1px solid var(--colab-border-color);\"><b>langchain_core.documents.base.Document</b><br/>def __init__(page_content: str, **kwargs: Any) -&gt; None</pre><pre class=\"function-repr-contents function-repr-contents-collapsed\" style=\"\"><a class=\"filepath\" style=\"display:none\" href=\"#\">/usr/local/lib/python3.10/dist-packages/langchain_core/documents/base.py</a>Class for storing a piece of text and associated metadata.\n",
              "\n",
              "Example:\n",
              "\n",
              "    .. code-block:: python\n",
              "\n",
              "        from langchain_core.documents import Document\n",
              "\n",
              "        document = Document(\n",
              "            page_content=&quot;Hello, world!&quot;,\n",
              "            metadata={&quot;source&quot;: &quot;https://example.com&quot;}\n",
              "        )</pre>\n",
              "      <script>\n",
              "      if (google.colab.kernel.accessAllowed && google.colab.files && google.colab.files.view) {\n",
              "        for (const element of document.querySelectorAll('.filepath')) {\n",
              "          element.style.display = 'block'\n",
              "          element.onclick = (event) => {\n",
              "            event.preventDefault();\n",
              "            event.stopPropagation();\n",
              "            google.colab.files.view(element.textContent, 247);\n",
              "          };\n",
              "        }\n",
              "      }\n",
              "      for (const element of document.querySelectorAll('.function-repr-contents')) {\n",
              "        element.onclick = (event) => {\n",
              "          event.preventDefault();\n",
              "          event.stopPropagation();\n",
              "          element.classList.toggle('function-repr-contents-collapsed');\n",
              "        };\n",
              "      }\n",
              "      </script>\n",
              "      </div>"
            ]
          },
          "metadata": {},
          "execution_count": 88
        }
      ]
    },
    {
      "cell_type": "code",
      "source": [
        "from langchain.document_loaders import PyPDFLoader\n",
        "from langchain.embeddings import OpenAIEmbeddings"
      ],
      "metadata": {
        "id": "cXzlBqcnq0vd"
      },
      "execution_count": null,
      "outputs": []
    },
    {
      "cell_type": "code",
      "source": [
        "loader = PyPDFLoader('/content/FLY AI 5기 워크샵 안내.pdf')\n",
        "pages = loader.load_and_split()\n",
        "\n",
        "print(len(pages))\n",
        "# print(pages[2].page_content)"
      ],
      "metadata": {
        "colab": {
          "base_uri": "https://localhost:8080/"
        },
        "id": "6jS1pWwhsOx5",
        "outputId": "d4b4ebc7-b1c8-4af9-b456-d8e3e3f19a3d"
      },
      "execution_count": null,
      "outputs": [
        {
          "output_type": "stream",
          "name": "stdout",
          "text": [
            "2\n"
          ]
        }
      ]
    },
    {
      "cell_type": "code",
      "source": [
        "!pip install docx2txt"
      ],
      "metadata": {
        "colab": {
          "base_uri": "https://localhost:8080/"
        },
        "id": "unyLm1WKBW-i",
        "outputId": "4ce81260-add4-4243-aa31-3095fcd63bea"
      },
      "execution_count": null,
      "outputs": [
        {
          "output_type": "stream",
          "name": "stdout",
          "text": [
            "Collecting docx2txt\n",
            "  Downloading docx2txt-0.8.tar.gz (2.8 kB)\n",
            "  Preparing metadata (setup.py) ... \u001b[?25l\u001b[?25hdone\n",
            "Building wheels for collected packages: docx2txt\n",
            "  Building wheel for docx2txt (setup.py) ... \u001b[?25l\u001b[?25hdone\n",
            "  Created wheel for docx2txt: filename=docx2txt-0.8-py3-none-any.whl size=3959 sha256=2ea3064b99b1f2554be389a9f1132250ea80bdd0371be78773be8bdfb298488f\n",
            "  Stored in directory: /root/.cache/pip/wheels/22/58/cf/093d0a6c3ecfdfc5f6ddd5524043b88e59a9a199cb02352966\n",
            "Successfully built docx2txt\n",
            "Installing collected packages: docx2txt\n",
            "Successfully installed docx2txt-0.8\n"
          ]
        }
      ]
    },
    {
      "cell_type": "code",
      "source": [
        "from langchain.document_loaders import Docx2txtLoader\n",
        "\n",
        "loader = Docx2txtLoader('/content/5기_스터디_활동계획서_팀장김정현.docx')\n",
        "pages = loader.load_and_split()\n",
        "\n",
        "pages[0].page_content\n"
      ],
      "metadata": {
        "colab": {
          "base_uri": "https://localhost:8080/",
          "height": 200
        },
        "id": "_x_0YqVasYa-",
        "outputId": "76a8decb-454a-4237-82d8-7c6a96b26ab3"
      },
      "execution_count": null,
      "outputs": [
        {
          "output_type": "execute_result",
          "data": {
            "text/plain": [
              "'FLY AI Challenger 5기 스터디 활동 계획서\\n\\n\\n\\n스터디 참여 명단\\n\\n\\t김정현\\n\\n\\t010-9665-4027\\n\\n\\n\\n남정훈\\n\\n010-2937-0597\\n\\n\\n\\n안승민\\n\\n010-9395-5729\\n\\n\\n\\n안효준\\n\\n010-3298-2947\\n\\n\\n\\n송종문\\n\\n010-7503-5057\\n\\n\\n\\n한재석\\n\\n010-3057-7969\\n\\n\\n\\n\\n\\n\\n\\n학습주제\\n\\n그룹원이 관심있는 분야에 대해서 구체적으로 기술한다\\n\\n학습목표\\n\\n- 백준, 프로그래머스, Leetcode 등 다양한 알고리즘 문제 풀이 사이트에서 공부하여 코딩테스트를 통과하기 위한 실력을 기름\\n\\n- 백준을 기준으로 골드 중위 수준의 실력을 목표\\n\\n학습결과물\\n\\n- 문제 풀이 후 개인 코드 깃헙에 공유\\n\\n- 각 주마다 BFS, DFS, DP 등 주요 알고리즘을 하나씩 선정한 뒤 스터디용 노션 페이지에 개념 정리\\n\\n학습 방법 및\\n\\n스터디 운영규칙\\n\\n- 매주 최소 3개의 문제 풀이 (부족할 시 스터디 시간 외의 개인 시간 활용)\\n\\n- 초기엔 자신의 수준에 맞는 문제로 시작하여 최종적으로 최소 백준 기준 골드 이상의 문제 풀이 목표\\n\\n- 불참 시 개인적으로 문제 풀이 및 공부 후 깃헙, 노션에 공유\\n\\n시간 및 장소\\n\\n매주 화요일 19 : 00 ~ 21 : 00, SKT 패기반 강의실 또는 사옥 근처 카페\\n\\n주차\\n\\n일시\\n\\n주제 및 내용\\n\\n1주\\n\\n24.07.02(화)\\n\\n19:00 ~ 21:00\\n\\n알고리즘 하나 선정 후 개인 수준에 맞는 문제 풀이 및 풀이 공유\\n\\n2주\\n\\n24.07.09(화)\\n\\n19:00 ~ 21:00\\n\\n알고리즘 하나 선정 후 개인 수준에 맞는 문제 풀이 및 풀이 공유\\n\\n3주\\n\\n24.07.16(화)\\n\\n19:00 ~ 21:00\\n\\n알고리즘 하나 선정 후 개인 수준에 맞는 문제 풀이 및 풀이 공유\\n\\n4주\\n\\n24.07.23(화)\\n\\n19:00 ~ 21:00\\n\\n알고리즘 하나 선정 후 개인 수준에 맞는 문제 풀이 및 풀이 공유\\n\\n5주\\n\\n24.07.30(화)\\n\\n19:00 ~ 21:00\\n\\n알고리즘 하나 선정 후 개인 수준에 맞는 문제 풀이 및 풀이 공유\\n\\n6주\\n\\n24.08.06(화)\\n\\n19:00 ~ 21:00\\n\\n프로그래머스 코딩테스트 응시\\n\\n7주\\n\\n24.08.13(화)\\n\\n19:00 ~ 21:00\\n\\n알고리즘 하나 선정 후 개인 수준에 맞는 문제 풀이 및 풀이 공유\\n\\n8주\\n\\n24.08.16(금)\\n\\n19:00 ~ 21:00\\n\\n알고리즘 하나 선정 후 개인 수준에 맞는 문제 풀이 및 풀이 공유\\n\\n9주\\n\\n24.08.20(화)\\n\\n19:00 ~ 21:00\\n\\n알고리즘 하나 선정 후 개인 수준에 맞는 문제 풀이 및 풀이 공유\\n\\n10주\\n\\n24.08.27(화)\\n\\n19:00 ~ 21:00\\n\\n학습결과물 준비\\n\\n그룹\\n\\n지원비\\n\\n활용계획\\n\\n스터디 모임을 위한 카페 비용으로 활용 예정'"
            ],
            "application/vnd.google.colaboratory.intrinsic+json": {
              "type": "string"
            }
          },
          "metadata": {},
          "execution_count": 114
        }
      ]
    },
    {
      "cell_type": "code",
      "source": [
        "from langchain.document_loaders import CSVLoader\n",
        "\n",
        "loader = CSVLoader('/content/영화정보_2224_흥행여부추가.csv')\n",
        "pages = loader.load_and_split()"
      ],
      "metadata": {
        "id": "NhsotnB6ACYZ"
      },
      "execution_count": null,
      "outputs": []
    },
    {
      "cell_type": "code",
      "source": [
        "pages[0].page_content"
      ],
      "metadata": {
        "colab": {
          "base_uri": "https://localhost:8080/",
          "height": 126
        },
        "id": "CQVOfHUBAc8a",
        "outputId": "3cf68474-9dc1-4785-be9e-e22de2f04d86"
      },
      "execution_count": null,
      "outputs": [
        {
          "output_type": "execute_result",
          "data": {
            "text/plain": [
              "'Rank: 1\\nMovie: 서울의 봄\\nDate: 2023-11-22\\nTotal Sales: 127926589712\\nSales Share: 0.051\\nCumulative Sales: 127926589712\\nTotal Attendance: 13128020\\nCumulative Attendance: 13128020\\nScreen Count: 2463\\nShow Count: 374531\\nCountry: 한국\\nProduction Country: 한국\\nProduction Company: (주)하이브미디어코프\\nDistributor: 플러스 엔터테인먼트\\nLevel: 12세이상관람가\\nGenre: 드라마\\nDirector: 김성수\\nActor: 황정민,윤호림,이미라,정우성,이성민,박해준,김성균,김의성,정동환,안내상,유성주,최병모,박훈,이재윤,김성오,남윤호,홍서준,안세호,정형석,박정학,박원상,박민이,염동헌,전진기,차래형,공재민,권혁,한창현,송영근,전수지,서광재,임철형,현봉식,곽자형,전운종,이승희,김기무,문성복,김옥주,박정표,곽진석,한규원,우미화,차건우,최원경,정만식,정해인,이준혁,이귀우,우아름,김지원,최기동,양영문\\nProduction Budgets: 233.0\\nSuccess: 1.0'"
            ],
            "application/vnd.google.colaboratory.intrinsic+json": {
              "type": "string"
            }
          },
          "metadata": {},
          "execution_count": 106
        }
      ]
    },
    {
      "cell_type": "code",
      "source": [],
      "metadata": {
        "id": "PSttwm_2AjuO"
      },
      "execution_count": null,
      "outputs": []
    }
  ]
}